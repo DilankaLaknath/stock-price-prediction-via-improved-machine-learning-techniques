{
  "cells": [
    {
      "cell_type": "code",
      "execution_count": 1,
      "metadata": {
        "id": "R-_pO8dp1Ju2",
        "colab": {
          "base_uri": "https://localhost:8080/"
        },
        "outputId": "5b711996-5e30-4aae-eb27-91491effcc0f"
      },
      "outputs": [
        {
          "output_type": "stream",
          "name": "stdout",
          "text": [
            "Mounted at /content/drive\n"
          ]
        }
      ],
      "source": [
        "from google.colab import drive\n",
        "drive.mount('/content/drive')"
      ]
    },
    {
      "cell_type": "code",
      "execution_count": 2,
      "metadata": {
        "id": "oZDrj3awBhUY",
        "colab": {
          "base_uri": "https://localhost:8080/"
        },
        "outputId": "b2e4f6de-fc00-457b-f227-15d9aa35e39d"
      },
      "outputs": [
        {
          "output_type": "stream",
          "name": "stdout",
          "text": [
            "deb https://ngrok-agent.s3.amazonaws.com buster main\n",
            "Hit:1 https://developer.download.nvidia.com/compute/cuda/repos/ubuntu2004/x86_64  InRelease\n",
            "Get:2 https://cloud.r-project.org/bin/linux/ubuntu focal-cran40/ InRelease [3,622 B]\n",
            "Get:3 http://security.ubuntu.com/ubuntu focal-security InRelease [114 kB]\n",
            "Hit:4 http://ppa.launchpad.net/c2d4u.team/c2d4u4.0+/ubuntu focal InRelease\n",
            "Hit:5 http://archive.ubuntu.com/ubuntu focal InRelease\n",
            "Get:6 http://archive.ubuntu.com/ubuntu focal-updates InRelease [114 kB]\n",
            "Get:7 https://ngrok-agent.s3.amazonaws.com buster InRelease [20.3 kB]\n",
            "Hit:8 http://ppa.launchpad.net/cran/libgit2/ubuntu focal InRelease\n",
            "Hit:9 http://ppa.launchpad.net/deadsnakes/ppa/ubuntu focal InRelease\n",
            "Get:10 http://archive.ubuntu.com/ubuntu focal-backports InRelease [108 kB]\n",
            "Get:11 http://ppa.launchpad.net/graphics-drivers/ppa/ubuntu focal InRelease [24.3 kB]\n",
            "Hit:12 http://ppa.launchpad.net/ubuntugis/ppa/ubuntu focal InRelease\n",
            "Get:13 https://ngrok-agent.s3.amazonaws.com buster/main amd64 Packages [2,074 B]\n",
            "Get:14 http://security.ubuntu.com/ubuntu focal-security/main amd64 Packages [2,590 kB]\n",
            "Get:15 http://security.ubuntu.com/ubuntu focal-security/universe amd64 Packages [1,027 kB]\n",
            "Get:16 http://archive.ubuntu.com/ubuntu focal-updates/main amd64 Packages [3,069 kB]\n",
            "Get:17 http://archive.ubuntu.com/ubuntu focal-updates/universe amd64 Packages [1,323 kB]\n",
            "Get:18 http://ppa.launchpad.net/graphics-drivers/ppa/ubuntu focal/main amd64 Packages [42.0 kB]\n",
            "Fetched 8,438 kB in 7s (1,244 kB/s)\n",
            "Reading package lists... Done\n",
            "Building dependency tree       \n",
            "Reading state information... Done\n",
            "27 packages can be upgraded. Run 'apt list --upgradable' to see them.\n",
            "Reading package lists... Done\n",
            "Building dependency tree       \n",
            "Reading state information... Done\n",
            "The following package was automatically installed and is no longer required:\n",
            "  libnvidia-common-525\n",
            "Use 'sudo apt autoremove' to remove it.\n",
            "The following NEW packages will be installed:\n",
            "  ngrok\n",
            "0 upgraded, 1 newly installed, 0 to remove and 27 not upgraded.\n",
            "Need to get 6,210 kB of archives.\n",
            "After this operation, 0 B of additional disk space will be used.\n",
            "Get:1 https://ngrok-agent.s3.amazonaws.com buster/main amd64 ngrok amd64 3.2.2 [6,210 kB]\n",
            "Fetched 6,210 kB in 1s (5,529 kB/s)\n",
            "debconf: unable to initialize frontend: Dialog\n",
            "debconf: (No usable dialog-like program is installed, so the dialog based frontend cannot be used. at /usr/share/perl5/Debconf/FrontEnd/Dialog.pm line 76, <> line 1.)\n",
            "debconf: falling back to frontend: Readline\n",
            "debconf: unable to initialize frontend: Readline\n",
            "debconf: (This frontend requires a controlling tty.)\n",
            "debconf: falling back to frontend: Teletype\n",
            "dpkg-preconfigure: unable to re-open stdin: \n",
            "Selecting previously unselected package ngrok.\n",
            "(Reading database ... 128293 files and directories currently installed.)\n",
            "Preparing to unpack .../archives/ngrok_3.2.2_amd64.deb ...\n",
            "Unpacking ngrok (3.2.2) ...\n",
            "Setting up ngrok (3.2.2) ...\n"
          ]
        }
      ],
      "source": [
        "!curl -s https://ngrok-agent.s3.amazonaws.com/ngrok.asc | sudo tee /etc/apt/trusted.gpg.d/ngrok.asc >/dev/null && echo \"deb https://ngrok-agent.s3.amazonaws.com buster main\" | sudo tee /etc/apt/sources.list.d/ngrok.list && sudo apt update && sudo apt install ngrok   \n",
        "              "
      ]
    },
    {
      "cell_type": "code",
      "execution_count": 3,
      "metadata": {
        "id": "iBCA8LNy13ap",
        "colab": {
          "base_uri": "https://localhost:8080/"
        },
        "outputId": "2662c5c1-aab9-456d-9faf-08893d22aeb6"
      },
      "outputs": [
        {
          "output_type": "stream",
          "name": "stdout",
          "text": [
            "\u001b[2K     \u001b[90m━━━━━━━━━━━━━━━━━━━━━━━━━━━━━━━━━━━━━━━━\u001b[0m \u001b[32m9.6/9.6 MB\u001b[0m \u001b[31m53.1 MB/s\u001b[0m eta \u001b[36m0:00:00\u001b[0m\n",
            "\u001b[2K     \u001b[90m━━━━━━━━━━━━━━━━━━━━━━━━━━━━━━━━━━━━━━\u001b[0m \u001b[32m184.3/184.3 KB\u001b[0m \u001b[31m20.4 MB/s\u001b[0m eta \u001b[36m0:00:00\u001b[0m\n",
            "\u001b[2K     \u001b[90m━━━━━━━━━━━━━━━━━━━━━━━━━━━━━━━━━━━━━━━━\u001b[0m \u001b[32m4.7/4.7 MB\u001b[0m \u001b[31m93.6 MB/s\u001b[0m eta \u001b[36m0:00:00\u001b[0m\n",
            "\u001b[2K     \u001b[90m━━━━━━━━━━━━━━━━━━━━━━━━━━━━━━━━━━━━━━\u001b[0m \u001b[32m164.8/164.8 KB\u001b[0m \u001b[31m19.1 MB/s\u001b[0m eta \u001b[36m0:00:00\u001b[0m\n",
            "\u001b[?25h  Preparing metadata (setup.py) ... \u001b[?25l\u001b[?25hdone\n",
            "\u001b[2K     \u001b[90m━━━━━━━━━━━━━━━━━━━━━━━━━━━━━━━━━━━━━━━━\u001b[0m \u001b[32m82.1/82.1 KB\u001b[0m \u001b[31m9.5 MB/s\u001b[0m eta \u001b[36m0:00:00\u001b[0m\n",
            "\u001b[2K     \u001b[90m━━━━━━━━━━━━━━━━━━━━━━━━━━━━━━━━━━━━━━━━\u001b[0m \u001b[32m62.7/62.7 KB\u001b[0m \u001b[31m7.3 MB/s\u001b[0m eta \u001b[36m0:00:00\u001b[0m\n",
            "\u001b[?25h  Building wheel for validators (setup.py) ... \u001b[?25l\u001b[?25hdone\n"
          ]
        }
      ],
      "source": [
        "!pip install streamlit -q"
      ]
    },
    {
      "cell_type": "code",
      "execution_count": 4,
      "metadata": {
        "id": "MwPdLk-mHsVH",
        "colab": {
          "base_uri": "https://localhost:8080/"
        },
        "outputId": "db3e8475-a939-439b-eb7f-21698e5fbea4"
      },
      "outputs": [
        {
          "output_type": "stream",
          "name": "stdout",
          "text": [
            "Looking in indexes: https://pypi.org/simple, https://us-python.pkg.dev/colab-wheels/public/simple/\n",
            "Collecting pyngrok\n",
            "  Downloading pyngrok-5.2.1.tar.gz (761 kB)\n",
            "\u001b[2K     \u001b[90m━━━━━━━━━━━━━━━━━━━━━━━━━━━━━━━━━━━━━━\u001b[0m \u001b[32m761.3/761.3 KB\u001b[0m \u001b[31m11.4 MB/s\u001b[0m eta \u001b[36m0:00:00\u001b[0m\n",
            "\u001b[?25h  Preparing metadata (setup.py) ... \u001b[?25l\u001b[?25hdone\n",
            "Requirement already satisfied: PyYAML in /usr/local/lib/python3.9/dist-packages (from pyngrok) (6.0)\n",
            "Building wheels for collected packages: pyngrok\n",
            "  Building wheel for pyngrok (setup.py) ... \u001b[?25l\u001b[?25hdone\n",
            "  Created wheel for pyngrok: filename=pyngrok-5.2.1-py3-none-any.whl size=19790 sha256=86b036df38d7f7f03d39c1b106374c606318d01b10289beefa40d3d290e60261\n",
            "  Stored in directory: /root/.cache/pip/wheels/f6/89/59/49d4249e00957e94813ac136a335d10ed2e09a856c5096f95c\n",
            "Successfully built pyngrok\n",
            "Installing collected packages: pyngrok\n",
            "Successfully installed pyngrok-5.2.1\n"
          ]
        }
      ],
      "source": [
        "!pip install pyngrok\n"
      ]
    },
    {
      "cell_type": "code",
      "execution_count": 5,
      "metadata": {
        "id": "l57uv5sGWEMO",
        "colab": {
          "base_uri": "https://localhost:8080/"
        },
        "outputId": "ab31c56c-807e-45ae-c299-06578db4817e"
      },
      "outputs": [
        {
          "output_type": "stream",
          "name": "stdout",
          "text": [
            "Python 3.9.16\n"
          ]
        }
      ],
      "source": [
        "!python -V"
      ]
    },
    {
      "cell_type": "code",
      "execution_count": 6,
      "metadata": {
        "id": "iK62THSIb6rV"
      },
      "outputs": [],
      "source": [
        "\n",
        "from datetime import datetime"
      ]
    },
    {
      "cell_type": "code",
      "execution_count": 46,
      "metadata": {
        "id": "yOH7ljqSK1Yr",
        "colab": {
          "base_uri": "https://localhost:8080/"
        },
        "outputId": "28baa994-8634-4293-9f99-a0b708b8b53e"
      },
      "outputs": [
        {
          "output_type": "stream",
          "name": "stdout",
          "text": [
            "Overwriting app.py\n"
          ]
        }
      ],
      "source": [
        "%%writefile app.py\n",
        "import streamlit as st\n",
        "import pandas as pd\n",
        "from datetime import datetime\n",
        "from sklearn.preprocessing import MinMaxScaler\n",
        "from pandas import read_csv\n",
        "from matplotlib import pyplot\n",
        "import matplotlib.pyplot as plt\n",
        "import tensorflow as tf\n",
        "from keras.models import load_model\n",
        "import numpy as np\n",
        "import datetime as dt\n",
        "from dateutil.relativedelta import relativedelta # to add days or years\n",
        "from tensorflow import keras\n",
        "from pandas import Series, DataFrame\n",
        "import pandas as pd\n",
        "import numpy as np\n",
        "import plotly.figure_factory as ff\n",
        "st.title('Colombo Stock Exchange(CSE)  Stock Price prediction')\n",
        "st.title('Department of Computer Science and Engineering of University of Moratuwa')\n",
        "st.write('Advanced Data Mining')\n",
        "st.write('Group Name : I')\n",
        "st.write('Group Index : 9')\n",
        "\n",
        "\n",
        "\n",
        "# Using object notation\n",
        "add_selectbox = st.sidebar.selectbox(\n",
        "    \"What is your prediction type?\",\n",
        "    (\"Closing Price in Future \", \"Closing price for today\")\n",
        ")\n",
        "\n",
        "# Using \"with\" notation\n",
        "with st.sidebar:\n",
        "    add_radio = st.radio(\n",
        "        \"Choose a bank for predict\",\n",
        "        ('Commercial Bank',)\n",
        "    )\n",
        "#genre = st.radio(\"What's your selected bank ?\",('Commercial Bank', 'HNB Bank', 'Sampath Bank', 'Seylan Bank'))\n",
        "if add_radio == 'Commercial Bank':\n",
        "  st.title('Commercial Bank')\n",
        "  if add_selectbox == \"Closing price for today\":\n",
        "    with st.form(\"my_form\"):\n",
        "        \n",
        "        number =  st.number_input('Insert  High trade price', key ='0' )\n",
        "        number1 = st.number_input('Insert  Low price', key  = '1')\n",
        "        number2 = st.number_input('Insert  Opening price', key = '2')\n",
        "        number3 = st.number_input('Insert  No of Trades', key = '3')\n",
        "        number4 = st.number_input('Insert  Volume', key = '4')\n",
        "        number5 = st.number_input('Insert  Trunover', key = '5')\n",
        "        #number4 = st.number_input('ASPI', key = '6')\n",
        "        #number5 = st.number_input('Sector Index', key = '7')\n",
        "        submitted = st.form_submit_button(\"Submit\")         \n",
        "    if submitted:\n",
        "        list_enterd = [number,number1,number2,number3,number4,number5]\n",
        "        custom_df = pd.DataFrame(list_enterd).T\n",
        "        custom_df.columns = ['Low', 'Close', 'Open', 'Trades', 'Volume', 'Trunover']\n",
        "        cols =  list(custom_df)\n",
        "        custom_df=custom_df[cols].astype(float)\n",
        "        custom_df_array = np.array(custom_df)\n",
        "        scaler = MinMaxScaler(feature_range=(0, 1))\n",
        "        df_custom_scaled = scaler.fit_transform(custom_df_array)\n",
        "        custom_scaler_list = np.repeat(df_custom_scaled, 14,axis=0)\n",
        "        custom_scaler_list = np.repeat(custom_scaler_list[np.newaxis,:,:],882, axis=0)\n",
        "        custom_scaler_list = np.array(custom_scaler_list)\n",
        "        modelnew = load_model('/content/drive/MyDrive/150 epoch')\n",
        "        list_Custom_prediction = modelnew.predict(custom_scaler_list)\n",
        "        list_forcast_copies_finalize = np.repeat(list_Custom_prediction, 6, axis=-1)\n",
        "        list_predictions_333 = scaler.inverse_transform(list_forcast_copies_finalize)[:,0]\n",
        "        format_float = \"{:.2f}\".format(list_predictions_333[0])\n",
        "        # Every form must have a submit button.\n",
        "          \n",
        "        st.title(\"Closing trading prediction price is \",format_float)\n",
        "        html_str = f\"\"\"\n",
        "        <style>\n",
        "        p.a {{\n",
        "        font: bold 35px Courier;\n",
        "        }}\n",
        "        </style>\n",
        "        <p class=\"a\">Rs {format_float}/=</p>\n",
        "        \"\"\"\n",
        "        st.markdown(html_str, unsafe_allow_html=True)\n",
        "  if add_selectbox == \"Closing Price in Future \":\n",
        "      with st.form(\"my_form\"):\n",
        "          #dates =  st.number_input('Insert  number of days you want to predict from 2020/12/31',step = 1 )\n",
        "          years = st.slider('Number of years need to predict from 2020/12/31 : ', 1, 10)\n",
        "          year = years * 365\n",
        "\n",
        "          # df = pd.read_excel('/content/drive/MyDrive/Combdata/predict.xlsx')\n",
        "          # df = df.drop(df.columns[[0]], axis=1)\n",
        "          # # Every form must have a submit button.\n",
        "          # df = df.set_index('Date')\n",
        "          submitted = st.form_submit_button(\"Submit\")\n",
        "          if submitted:\n",
        "              trainX = []\n",
        "              trainY = []\n",
        "              n_future = 1\n",
        "              n_past = 14\n",
        "              model = load_model('/content/drive/MyDrive/Sentiments/COMB/100epochs')\n",
        "              df = pd.read_excel(\"/content/drive/MyDrive/MODEL/COMB/sentiment.xlsx\")\n",
        "              df = df.drop(df.columns[[0]], axis=1)\n",
        "              df = df.dropna(how='any',axis=0) \n",
        "              train_dates = pd.to_datetime(df['Date'])\n",
        "              df = df[[ ' Close ',' High ',' Low ',' Open ',' Trades ',' Volume ',' Trunover ','ASPI','Sector_Index']]\n",
        "              cols =  list(df)[0:10]  \n",
        "              df_for_training = df[cols].astype(float)\n",
        "              dataset_train = np.array(df_for_training[:int(df_for_training.shape[0]*0.8)])\n",
        "              dataset_test = np.array(df_for_training[int(df_for_training.shape[0]*0.8):])\n",
        "              scaler = MinMaxScaler(feature_range=(0, 1))\n",
        "              df_for_training_scaled = scaler.fit_transform(dataset_train)\n",
        "              df_for_testing_scaled = scaler.fit_transform(dataset_test)\n",
        "              for i in range(n_past, len(df_for_training_scaled) - n_future +1):\n",
        "                trainX.append(df_for_training_scaled[i - n_past:i, 1:df_for_training.shape[1]])\n",
        "                trainY.append(df_for_training_scaled[i + n_future - 1 : i + n_future, 0])\n",
        "              trainX,trainY =  np.array(trainX),np.array(trainY)\n",
        "              n_future = year\n",
        "              forcast_period_dates = pd.date_range(list(train_dates)[-1],periods=n_future, freq= '1d').tolist()\n",
        "              forcast = model.predict(trainX[-n_future:])\n",
        "              forcast_copies = np.repeat(forcast, df_for_training.shape[1], axis=-1)\n",
        "              y_pred_future = scaler.inverse_transform(forcast_copies)[:,0]\n",
        "              forecast_dates = []\n",
        "              for time_i in forcast_period_dates:\n",
        "                forecast_dates.append(time_i.date())\n",
        "              df_forcast = pd.DataFrame({'Date':np.array(forecast_dates), 'Close':y_pred_future})\n",
        "              df_forcast['Date'] = pd.to_datetime(df_forcast['Date'])\n",
        "              df_forcast['Close'] = df_forcast['Close'].apply(lambda x:round(x,2))\n",
        "              df = df_forcast.set_index('Date')\n",
        "              st.write(\"you have selected \", years, 'years to predict future closing price')\n",
        "              st.line_chart(df,width=600, height=400)\n",
        "if add_radio == 'HNB Bank':\n",
        "  st.title('HNB Bank')\n",
        "  if add_selectbox == \"Closing price for today\":\n",
        "    with st.form(\"my_form\"):\n",
        "        \n",
        "        number =  st.number_input('Insert  High trade price', key ='0' )\n",
        "        number1 = st.number_input('Insert  Low price', key  = '1')\n",
        "        number2 = st.number_input('Insert  Opening price', key = '2')\n",
        "        number3 = st.number_input('Insert  No of Trades', key = '3')\n",
        "        number4 = st.number_input('Insert  Volume', key = '4')\n",
        "        number5 = st.number_input('Insert  Trunover', key = '5')\n",
        "        number4 = st.number_input('ASPI', key = '4')\n",
        "        number5 = st.number_input('Sector Index', key = '5')\n",
        "        submitted = st.form_submit_button(\"Submit\")          \n",
        "    if submitted:\n",
        "        list_enterd = [number,number1,number2,number3,number4,number5]\n",
        "        custom_df = pd.DataFrame(list_enterd).T\n",
        "        custom_df.columns = ['Low', 'Close', 'Open', 'Trades', 'Volume', 'Trunover']\n",
        "        cols =  list(custom_df)\n",
        "        custom_df=custom_df[cols].astype(float)\n",
        "        custom_df_array = np.array(custom_df)\n",
        "        scaler = MinMaxScaler(feature_range=(0, 1))\n",
        "        df_custom_scaled = scaler.fit_transform(custom_df_array)\n",
        "        custom_scaler_list = np.repeat(df_custom_scaled, 14,axis=0)\n",
        "        custom_scaler_list = np.repeat(custom_scaler_list[np.newaxis,:,:],882, axis=0)\n",
        "        custom_scaler_list = np.array(custom_scaler_list)\n",
        "        modelnew = load_model('/content/drive/MyDrive/150 epoch')\n",
        "        list_Custom_prediction = modelnew.predict(custom_scaler_list)\n",
        "        list_forcast_copies_finalize = np.repeat(list_Custom_prediction, 6, axis=-1)\n",
        "        list_predictions_333 = scaler.inverse_transform(list_forcast_copies_finalize)[:,0]\n",
        "        format_float = \"{:.2f}\".format(list_predictions_333[0])\n",
        "        # Every form must have a submit button.\n",
        "          \n",
        "        st.title(\"Closing trading prediction price is \",format_float)\n",
        "        html_str = f\"\"\"\n",
        "        <style>\n",
        "        p.a {{\n",
        "        font: bold 35px Courier;\n",
        "        }}\n",
        "        </style>\n",
        "        <p class=\"a\">Rs {format_float}/=</p>\n",
        "        \"\"\"\n",
        "        st.markdown(html_str, unsafe_allow_html=True)\n",
        "  if add_selectbox == \"Closing Price in Future \":\n",
        "      with st.form(\"my_form\"):\n",
        "          #dates =  st.number_input('Insert  number of days you want to predict from 2020/12/31',step = 1 )\n",
        "          years = st.slider('Number of years need to predict from 2020/12/31 : ', 1, 10)\n",
        "          year = years * 365\n",
        "\n",
        "          # df = pd.read_excel('/content/drive/MyDrive/Combdata/predict.xlsx')\n",
        "          # df = df.drop(df.columns[[0]], axis=1)\n",
        "          # # Every form must have a submit button.\n",
        "          # df = df.set_index('Date')\n",
        "          submitted = st.form_submit_button(\"Submit\")\n",
        "          if submitted:\n",
        "              trainX = []\n",
        "              trainY = []\n",
        "              n_future = 1\n",
        "              n_past = 14\n",
        "              model = load_model('/content/drive/MyDrive/Sentiments/COMB/100epochs')\n",
        "              df = pd.read_excel(\"/content/drive/MyDrive/MODEL/COMB/sentiment.xlsx\")\n",
        "              df = df.drop(df.columns[[0]], axis=1)\n",
        "              df = df.dropna(how='any',axis=0) \n",
        "              train_dates = pd.to_datetime(df['Date'])\n",
        "              df = df[[ ' Close ',' High ',' Low ',' Open ',' Trades ',' Volume ',' Trunover ','ASPI','Sector_Index']]\n",
        "              cols =  list(df)[0:10]  \n",
        "              df_for_training = df[cols].astype(float)\n",
        "              dataset_train = np.array(df_for_training[:int(df_for_training.shape[0]*0.8)])\n",
        "              dataset_test = np.array(df_for_training[int(df_for_training.shape[0]*0.8):])\n",
        "              scaler = MinMaxScaler(feature_range=(0, 1))\n",
        "              df_for_training_scaled = scaler.fit_transform(dataset_train)\n",
        "              df_for_testing_scaled = scaler.fit_transform(dataset_test)\n",
        "              for i in range(n_past, len(df_for_training_scaled) - n_future +1):\n",
        "                trainX.append(df_for_training_scaled[i - n_past:i, 1:df_for_training.shape[1]])\n",
        "                trainY.append(df_for_training_scaled[i + n_future - 1 : i + n_future, 0])\n",
        "              trainX,trainY =  np.array(trainX),np.array(trainY)\n",
        "              n_future = year\n",
        "              forcast_period_dates = pd.date_range(list(train_dates)[-1],periods=n_future, freq= '1d').tolist()\n",
        "              forcast = model.predict(trainX[-n_future:])\n",
        "              forcast_copies = np.repeat(forcast, df_for_training.shape[1], axis=-1)\n",
        "              y_pred_future = scaler.inverse_transform(forcast_copies)[:,0]\n",
        "              forecast_dates = []\n",
        "              for time_i in forcast_period_dates:\n",
        "                forecast_dates.append(time_i.date())\n",
        "              df_forcast = pd.DataFrame({'Date':np.array(forecast_dates), 'Close':y_pred_future})\n",
        "              df_forcast['Date'] = pd.to_datetime(df_forcast['Date'])\n",
        "              df_forcast['Close'] = df_forcast['Close'].apply(lambda x:round(x,2))\n",
        "              df = df_forcast.set_index('Date')\n",
        "              st.write(\"you have selected \", years, 'years to predict future closing price')\n",
        "              st.line_chart(df,width=600, height=400)\n",
        "if add_radio == 'Sampath Bank':\n",
        "  st.title('Sampath Bank')\n",
        "  if add_selectbox == \"Closing price for today\":\n",
        "    with st.form(\"my_form\"):\n",
        "        \n",
        "        number =  st.number_input('Insert  High trade price', key ='0' )\n",
        "        number1 = st.number_input('Insert  Low price', key  = '1')\n",
        "        number2 = st.number_input('Insert  Opening price', key = '2')\n",
        "        number3 = st.number_input('Insert  No of Trades', key = '3')\n",
        "        number4 = st.number_input('Insert  Volume', key = '4')\n",
        "        number5 = st.number_input('Insert  Trunover', key = '5')\n",
        "        number4 = st.number_input('ASPI', key = '4')\n",
        "        number5 = st.number_input('Sector Index', key = '5')\n",
        "        submitted = st.form_submit_button(\"Submit\")          \n",
        "    if submitted:\n",
        "        list_enterd = [number,number1,number2,number3,number4,number5]\n",
        "        custom_df = pd.DataFrame(list_enterd).T\n",
        "        custom_df.columns = ['Low', 'Close', 'Open', 'Trades', 'Volume', 'Trunover']\n",
        "        cols =  list(custom_df)\n",
        "        custom_df=custom_df[cols].astype(float)\n",
        "        custom_df_array = np.array(custom_df)\n",
        "        scaler = MinMaxScaler(feature_range=(0, 1))\n",
        "        df_custom_scaled = scaler.fit_transform(custom_df_array)\n",
        "        custom_scaler_list = np.repeat(df_custom_scaled, 14,axis=0)\n",
        "        custom_scaler_list = np.repeat(custom_scaler_list[np.newaxis,:,:],882, axis=0)\n",
        "        custom_scaler_list = np.array(custom_scaler_list)\n",
        "        modelnew = load_model('/content/drive/MyDrive/150 epoch')\n",
        "        list_Custom_prediction = modelnew.predict(custom_scaler_list)\n",
        "        list_forcast_copies_finalize = np.repeat(list_Custom_prediction, 6, axis=-1)\n",
        "        list_predictions_333 = scaler.inverse_transform(list_forcast_copies_finalize)[:,0]\n",
        "        format_float = \"{:.2f}\".format(list_predictions_333[0])\n",
        "        # Every form must have a submit button.\n",
        "          \n",
        "        st.title(\"Closing trading prediction price is \",format_float)\n",
        "        html_str = f\"\"\"\n",
        "        <style>\n",
        "        p.a {{\n",
        "        font: bold 35px Courier;\n",
        "        }}\n",
        "        </style>\n",
        "        <p class=\"a\">Rs {format_float}/=</p>\n",
        "        \"\"\"\n",
        "        st.markdown(html_str, unsafe_allow_html=True)\n",
        "  if add_selectbox == \"Closing Price in Future \":\n",
        "      with st.form(\"my_form\"):\n",
        "          #dates =  st.number_input('Insert  number of days you want to predict from 2020/12/31',step = 1 )\n",
        "          years = st.slider('Number of years need to predict from 2020/12/31 : ', 1, 10)\n",
        "          year = years * 365\n",
        "\n",
        "          # df = pd.read_excel('/content/drive/MyDrive/Combdata/predict.xlsx')\n",
        "          # df = df.drop(df.columns[[0]], axis=1)\n",
        "          # # Every form must have a submit button.\n",
        "          # df = df.set_index('Date')\n",
        "          submitted = st.form_submit_button(\"Submit\")\n",
        "          if submitted:\n",
        "              trainX = []\n",
        "              trainY = []\n",
        "              n_future = 1\n",
        "              n_past = 14\n",
        "              model = load_model('/content/drive/MyDrive/Sentiments/COMB/100epochs')\n",
        "              df = pd.read_excel(\"/content/drive/MyDrive/MODEL/COMB/sentiment.xlsx\")\n",
        "              df = df.drop(df.columns[[0]], axis=1)\n",
        "              df = df.dropna(how='any',axis=0) \n",
        "              train_dates = pd.to_datetime(df['Date'])\n",
        "              df = df[[ ' Close ',' High ',' Low ',' Open ',' Trades ',' Volume ',' Trunover ','ASPI','Sector_Index']]\n",
        "              cols =  list(df)[0:10]  \n",
        "              df_for_training = df[cols].astype(float)\n",
        "              dataset_train = np.array(df_for_training[:int(df_for_training.shape[0]*0.8)])\n",
        "              dataset_test = np.array(df_for_training[int(df_for_training.shape[0]*0.8):])\n",
        "              scaler = MinMaxScaler(feature_range=(0, 1))\n",
        "              df_for_training_scaled = scaler.fit_transform(dataset_train)\n",
        "              df_for_testing_scaled = scaler.fit_transform(dataset_test)\n",
        "              for i in range(n_past, len(df_for_training_scaled) - n_future +1):\n",
        "                trainX.append(df_for_training_scaled[i - n_past:i, 1:df_for_training.shape[1]])\n",
        "                trainY.append(df_for_training_scaled[i + n_future - 1 : i + n_future, 0])\n",
        "              trainX,trainY =  np.array(trainX),np.array(trainY)\n",
        "              n_future = year\n",
        "              forcast_period_dates = pd.date_range(list(train_dates)[-1],periods=n_future, freq= '1d').tolist()\n",
        "              forcast = model.predict(trainX[-n_future:])\n",
        "              forcast_copies = np.repeat(forcast, df_for_training.shape[1], axis=-1)\n",
        "              y_pred_future = scaler.inverse_transform(forcast_copies)[:,0]\n",
        "              forecast_dates = []\n",
        "              for time_i in forcast_period_dates:\n",
        "                forecast_dates.append(time_i.date())\n",
        "              df_forcast = pd.DataFrame({'Date':np.array(forecast_dates), 'Close':y_pred_future})\n",
        "              df_forcast['Date'] = pd.to_datetime(df_forcast['Date'])\n",
        "              df_forcast['Close'] = df_forcast['Close'].apply(lambda x:round(x,2))\n",
        "              df = df_forcast.set_index('Date')\n",
        "              st.write(\"you have selected \", years, 'years to predict future closing price')\n",
        "              st.line_chart(df,width=600, height=400)\n",
        "if add_radio == 'Seylan Bank':\n",
        "  st.title('Seylan Bank')\n",
        "  if add_selectbox == \"Closing price for today\":\n",
        "    with st.form(\"my_form\"):\n",
        "        \n",
        "        number =  st.number_input('Insert  High trade price', key ='0' )\n",
        "        number1 = st.number_input('Insert  Low price', key  = '1')\n",
        "        number2 = st.number_input('Insert  Opening price', key = '2')\n",
        "        number3 = st.number_input('Insert  No of Trades', key = '3')\n",
        "        number4 = st.number_input('Insert  Volume', key = '4')\n",
        "        number5 = st.number_input('Insert  Trunover', key = '5')\n",
        "        number4 = st.number_input('ASPI', key = '4')\n",
        "        number5 = st.number_input('Sector Index', key = '5')\n",
        "        submitted = st.form_submit_button(\"Submit\")          \n",
        "    if submitted:\n",
        "        list_enterd = [number,number1,number2,number3,number4,number5]\n",
        "        custom_df = pd.DataFrame(list_enterd).T\n",
        "        custom_df.columns = ['Low', 'Close', 'Open', 'Trades', 'Volume', 'Trunover']\n",
        "        cols =  list(custom_df)\n",
        "        custom_df=custom_df[cols].astype(float)\n",
        "        custom_df_array = np.array(custom_df)\n",
        "        scaler = MinMaxScaler(feature_range=(0, 1))\n",
        "        df_custom_scaled = scaler.fit_transform(custom_df_array)\n",
        "        custom_scaler_list = np.repeat(df_custom_scaled, 14,axis=0)\n",
        "        custom_scaler_list = np.repeat(custom_scaler_list[np.newaxis,:,:],882, axis=0)\n",
        "        custom_scaler_list = np.array(custom_scaler_list)\n",
        "        modelnew = load_model('/content/drive/MyDrive/150 epoch')\n",
        "        list_Custom_prediction = modelnew.predict(custom_scaler_list)\n",
        "        list_forcast_copies_finalize = np.repeat(list_Custom_prediction, 6, axis=-1)\n",
        "        list_predictions_333 = scaler.inverse_transform(list_forcast_copies_finalize)[:,0]\n",
        "        format_float = \"{:.2f}\".format(list_predictions_333[0])\n",
        "        # Every form must have a submit button.\n",
        "          \n",
        "        st.title(\"Closing trading prediction price is \",format_float)\n",
        "        html_str = f\"\"\"\n",
        "        <style>\n",
        "        p.a {{\n",
        "        font: bold 35px Courier;\n",
        "        }}\n",
        "        </style>\n",
        "        <p class=\"a\">Rs {format_float}/=</p>\n",
        "        \"\"\"\n",
        "        st.markdown(html_str, unsafe_allow_html=True)\n",
        "  if add_selectbox == \"Closing Price in Future \":\n",
        "      with st.form(\"my_form\"):\n",
        "          #dates =  st.number_input('Insert  number of days you want to predict from 2020/12/31',step = 1 )\n",
        "          years = st.slider('Number of years need to predict from 2020/12/31 : ', 1, 10)\n",
        "          year = years * 365\n",
        "\n",
        "          # df = pd.read_excel('/content/drive/MyDrive/Combdata/predict.xlsx')\n",
        "          # df = df.drop(df.columns[[0]], axis=1)\n",
        "          # # Every form must have a submit button.\n",
        "          # df = df.set_index('Date')\n",
        "          submitted = st.form_submit_button(\"Submit\")\n",
        "          if submitted:\n",
        "              trainX = []\n",
        "              trainY = []\n",
        "              n_future = 1\n",
        "              n_past = 14\n",
        "              model = load_model('/content/drive/MyDrive/Sentiments/COMB/100epochs')\n",
        "              df = pd.read_excel(\"/content/drive/MyDrive/MODEL/COMB/sentiment.xlsx\")\n",
        "              df = df.drop(df.columns[[0]], axis=1)\n",
        "              df = df.dropna(how='any',axis=0) \n",
        "              train_dates = pd.to_datetime(df['Date'])\n",
        "              df = df[[ ' Close ',' High ',' Low ',' Open ',' Trades ',' Volume ',' Trunover ','ASPI','Sector_Index']]\n",
        "              cols =  list(df)[0:10]  \n",
        "              df_for_training = df[cols].astype(float)\n",
        "              dataset_train = np.array(df_for_training[:int(df_for_training.shape[0]*0.8)])\n",
        "              dataset_test = np.array(df_for_training[int(df_for_training.shape[0]*0.8):])\n",
        "              scaler = MinMaxScaler(feature_range=(0, 1))\n",
        "              df_for_training_scaled = scaler.fit_transform(dataset_train)\n",
        "              df_for_testing_scaled = scaler.fit_transform(dataset_test)\n",
        "              for i in range(n_past, len(df_for_training_scaled) - n_future +1):\n",
        "                trainX.append(df_for_training_scaled[i - n_past:i, 1:df_for_training.shape[1]])\n",
        "                trainY.append(df_for_training_scaled[i + n_future - 1 : i + n_future, 0])\n",
        "              trainX,trainY =  np.array(trainX),np.array(trainY)\n",
        "              n_future = year\n",
        "              forcast_period_dates = pd.date_range(list(train_dates)[-1],periods=n_future, freq= '1d').tolist()\n",
        "              forcast = model.predict(trainX[-n_future:])\n",
        "              forcast_copies = np.repeat(forcast, df_for_training.shape[1], axis=-1)\n",
        "              y_pred_future = scaler.inverse_transform(forcast_copies)[:,0]\n",
        "              forecast_dates = []\n",
        "              for time_i in forcast_period_dates:\n",
        "                forecast_dates.append(time_i.date())\n",
        "              df_forcast = pd.DataFrame({'Date':np.array(forecast_dates), 'Close':y_pred_future})\n",
        "              df_forcast['Date'] = pd.to_datetime(df_forcast['Date'])\n",
        "              df_forcast['Close'] = df_forcast['Close'].apply(lambda x:round(x,2))\n",
        "              df = df_forcast.set_index('Date')\n",
        "              st.write(\"you have selected \", years, 'years to predict future closing price')\n",
        "              st.line_chart(df,width=600, height=400)"
      ]
    },
    {
      "cell_type": "code",
      "execution_count": 33,
      "metadata": {
        "id": "WRkzT650OOe_",
        "colab": {
          "base_uri": "https://localhost:8080/"
        },
        "outputId": "e3a40e01-6ee2-4106-8ed1-4879c8f31aaf"
      },
      "outputs": [
        {
          "output_type": "stream",
          "name": "stdout",
          "text": [
            "app.py\tdrive  sample_data\n"
          ]
        }
      ],
      "source": [
        "!ls"
      ]
    },
    {
      "cell_type": "code",
      "execution_count": 34,
      "metadata": {
        "id": "jI87TlKFQnQ0",
        "colab": {
          "base_uri": "https://localhost:8080/"
        },
        "outputId": "4dd9e86d-4635-4c53-aff3-24d54bbe24fc"
      },
      "outputs": [
        {
          "output_type": "stream",
          "name": "stdout",
          "text": [
            "Authtoken saved to configuration file: /root/.ngrok2/ngrok.yml\n"
          ]
        }
      ],
      "source": [
        "!ngrok authtoken 1zXqF0F0Tk8Sv71VKNOJdgoPHYT_4KRT7SmyRu8SdZeYxX9TZ"
      ]
    },
    {
      "cell_type": "code",
      "execution_count": 35,
      "metadata": {
        "id": "UOsJWAgkUM0a"
      },
      "outputs": [],
      "source": [
        "from pyngrok import ngrok"
      ]
    },
    {
      "cell_type": "code",
      "execution_count": 36,
      "metadata": {
        "id": "0ljEs88wXZKu"
      },
      "outputs": [],
      "source": [
        "ngrok.kill()"
      ]
    },
    {
      "cell_type": "code",
      "execution_count": 37,
      "metadata": {
        "id": "-oscoK2D52FL"
      },
      "outputs": [],
      "source": [
        "!streamlit run app.py --server.port 80 &>/dev/null&"
      ]
    },
    {
      "cell_type": "code",
      "execution_count": 13,
      "metadata": {
        "id": "PYrMxDAW3fww"
      },
      "outputs": [],
      "source": [
        "#!streamlit run app.py &>/dev/null&"
      ]
    },
    {
      "cell_type": "code",
      "execution_count": 16,
      "metadata": {
        "id": "n0cpp0I0UwdJ",
        "colab": {
          "base_uri": "https://localhost:8080/"
        },
        "outputId": "8b509b88-cb6f-4b9f-a4fb-dc7e48552ed5"
      },
      "outputs": [
        {
          "output_type": "stream",
          "name": "stdout",
          "text": [
            "2105\n"
          ]
        }
      ],
      "source": [
        "!pgrep streamlit"
      ]
    },
    {
      "cell_type": "code",
      "execution_count": 17,
      "metadata": {
        "id": "6zIW5UqbU2FO"
      },
      "outputs": [],
      "source": [
        "!kill 2105"
      ]
    },
    {
      "cell_type": "code",
      "execution_count": 38,
      "metadata": {
        "id": "GSEz6PCvRhIc",
        "colab": {
          "base_uri": "https://localhost:8080/"
        },
        "outputId": "0e798862-99c2-442d-c2ac-0c9f996e0b87"
      },
      "outputs": [
        {
          "output_type": "execute_result",
          "data": {
            "text/plain": [
              "<NgrokTunnel: \"http://9afe-35-196-168-20.ngrok.io\" -> \"http://localhost:80\">"
            ]
          },
          "metadata": {},
          "execution_count": 38
        }
      ],
      "source": [
        "# Setup a tunnel to the streamlit port 8501\n",
        "public_url = ngrok.connect(port='8501')\n",
        "\n",
        "public_url"
      ]
    },
    {
      "cell_type": "code",
      "execution_count": null,
      "metadata": {
        "id": "8BnvSrGsHbK5"
      },
      "outputs": [],
      "source": [
        "#!pip install pipreqs"
      ]
    },
    {
      "cell_type": "code",
      "execution_count": null,
      "metadata": {
        "id": "jTAOQHj5a-aA"
      },
      "outputs": [],
      "source": [
        "#!pipreqs \"/content/drive/MyDrive/75 epoch\""
      ]
    },
    {
      "cell_type": "code",
      "execution_count": null,
      "metadata": {
        "id": "4aRKTa43bh0u"
      },
      "outputs": [],
      "source": []
    }
  ],
  "metadata": {
    "colab": {
      "provenance": []
    },
    "kernelspec": {
      "display_name": "Python 3",
      "name": "python3"
    },
    "language_info": {
      "name": "python"
    }
  },
  "nbformat": 4,
  "nbformat_minor": 0
}