{
 "cells": [
  {
   "cell_type": "markdown",
   "metadata": {},
   "source": [
    "# Random Forest Regression\n"
   ]
  },
  {
   "cell_type": "markdown",
   "metadata": {},
   "source": [
    "\n",
    "## Random forest regression is an ensemble algorithm that combines multiple decision trees to make predictions. It is useful when the data has a large number of features and non-linear relationships."
   ]
  },
  {
   "attachments": {},
   "cell_type": "markdown",
   "metadata": {},
   "source": [
    "1. Import necessary libraries: First, you need to import the necessary libraries such as Pandas, NumPy, Matplotlib, and Scikit-learn (which includes random forest regression model and evaluation metrics)."
   ]
  },
  {
   "cell_type": "code",
   "execution_count": null,
   "metadata": {},
   "outputs": [],
   "source": [
    "import pandas as pd\n",
    "import numpy as np\n",
    "import matplotlib.pyplot as plt\n",
    "from sklearn.ensemble import RandomForestRegressor\n",
    "from sklearn.metrics import mean_squared_error, mean_absolute_error, r2_score"
   ]
  },
  {
   "attachments": {},
   "cell_type": "markdown",
   "metadata": {},
   "source": [
    "2. Load the dataset: You can load the dataset into a Pandas dataframe using the read_csv function."
   ]
  },
  {
   "cell_type": "code",
   "execution_count": null,
   "metadata": {},
   "outputs": [],
   "source": [
    "from google.colab import drive\n",
    "drive.mount('/content/drive')\n",
    "data = pd.read_csv('/content/drive/MyDrive/combank.csv')"
   ]
  },
  {
   "attachments": {},
   "cell_type": "markdown",
   "metadata": {},
   "source": [
    "3. Preprocess the data: Before training the random forest regression model, you need to preprocess the data. You can drop any unnecessary columns, convert the date column to the Pandas datetime format, and split the data into training and testing datasets."
   ]
  },
  {
   "cell_type": "code",
   "execution_count": null,
   "metadata": {},
   "outputs": [],
   "source": [
    "# Drop unnecessary columns\n",
    "data = data.drop(['High', 'Low', 'Open', 'Trades', 'Volume', 'Turnover'], axis=1)\n",
    "\n",
    "# Convert date column to datetime format\n",
    "data['Date'] = pd.to_datetime(data['Date'], format='%Y-%m-%d')\n",
    "\n",
    "# Split data into training and testing datasets\n",
    "train_data = data[data['Date'].dt.year < 2015]\n",
    "test_data = data[data['Date'].dt.year >= 2015]"
   ]
  },
  {
   "attachments": {},
   "cell_type": "markdown",
   "metadata": {},
   "source": [
    "4. Prepare the data for training: You need to extract the independent variable (date) and dependent variable (closing price) from the training dataset."
   ]
  },
  {
   "cell_type": "code",
   "execution_count": null,
   "metadata": {},
   "outputs": [],
   "source": [
    "# Extract independent variable and dependent variable from training dataset\n",
    "train_x = np.array(train_data['Date'].dt.strftime('%s').astype('int')).reshape((-1, 1))\n",
    "train_y = np.array(train_data['Close'])"
   ]
  },
  {
   "attachments": {},
   "cell_type": "markdown",
   "metadata": {},
   "source": [
    "5. Train the random forest regression model: You can train the random forest regression model on the training dataset using the fit method of the RandomForestRegressor class."
   ]
  },
  {
   "cell_type": "code",
   "execution_count": null,
   "metadata": {},
   "outputs": [],
   "source": [
    "# Create a random forest regression object and fit the training data\n",
    "rfr = RandomForestRegressor(n_estimators=100, random_state=42)\n",
    "rfr.fit(train_x, train_y)"
   ]
  },
  {
   "attachments": {},
   "cell_type": "markdown",
   "metadata": {},
   "source": [
    "6. Make predictions: You can use the trained random forest regression model to make predictions on the testing dataset using the predict method."
   ]
  },
  {
   "cell_type": "code",
   "execution_count": null,
   "metadata": {},
   "outputs": [],
   "source": [
    "# Extract independent variable and dependent variable from testing dataset\n",
    "test_x = np.array(test_data['Date'].dt.strftime('%s').astype('int')).reshape((-1, 1))\n",
    "test_y = np.array(test_data['Close'])\n",
    "\n",
    "# Make predictions on testing data\n",
    "pred_y = rfr.predict(test_x)"
   ]
  },
  {
   "attachments": {},
   "cell_type": "markdown",
   "metadata": {},
   "source": [
    "7. Evaluate the model: Finally, you can evaluate the performance of the random forest regression model using evaluation metrics such as mean squared error (MSE), root mean squared error (RMSE), mean absolute error (MAE), and R-squared (R2) score."
   ]
  },
  {
   "cell_type": "code",
   "execution_count": null,
   "metadata": {},
   "outputs": [],
   "source": [
    "# Calculate evaluation metrics\n",
    "mse = mean_squared_error(test_y, pred_y)\n",
    "rmse = np.sqrt(mse)\n",
    "mae = mean_absolute_error(test_y, pred_y)\n",
    "r2 = r2_score(test_y, pred_y)\n",
    "\n",
    "# Print evaluation metrics\n",
    "print(\"Mean Squared Error: \", mse)\n",
    "print(\"Root Mean Squared Error: \", rmse)\n",
    "print(\"Mean Absolute Error: \", mae)\n",
    "print(\"R-squared: \", r2)"
   ]
  }
 ],
 "metadata": {
  "language_info": {
   "name": "python"
  },
  "orig_nbformat": 4
 },
 "nbformat": 4,
 "nbformat_minor": 2
}
